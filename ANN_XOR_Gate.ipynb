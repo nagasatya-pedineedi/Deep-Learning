{
  "nbformat": 4,
  "nbformat_minor": 0,
  "metadata": {
    "colab": {
      "provenance": []
    },
    "kernelspec": {
      "name": "python3",
      "display_name": "Python 3"
    },
    "language_info": {
      "name": "python"
    }
  },
  "cells": [
    {
      "cell_type": "code",
      "execution_count": 2,
      "metadata": {
        "id": "V3L87L3-Uqos"
      },
      "outputs": [],
      "source": [
        "from numpy import array, tanh, dot, random"
      ]
    },
    {
      "cell_type": "code",
      "source": [
        "class NeuralNetwork():\n",
        "\n",
        "  def __init__(self):\n",
        "    random.seed(1)\n",
        "    self.weight_matrix = random.random((3,1))\n",
        "\n",
        "  def tanh(self, x):\n",
        "    return tanh(x)\n",
        "\n",
        "  def tanh_derivative(self, x):\n",
        "    return 1-tanh(x)**2\n",
        "\n",
        "  def forward_propagation(self, input_matrix):\n",
        "    return tanh(dot(input_matrix, self.weight_matrix))\n",
        "\n",
        "  def train(self, train_inputs, train_outputs, iterations):\n",
        "    for iteration in range(iterations):\n",
        "      output = self.forward_propagation(train_inputs)\n",
        "\n",
        "      error = output - train_outputs\n",
        "      adjustment = dot(train_inputs.T, error*self.tanh_derivative(output))\n",
        "      self.weight_matrix += adjustment\n",
        "\n",
        "if __name__ == \"__main__\":\n",
        "  neural_network = NeuralNetwork()\n",
        "  print(\"Random wrights at the start of the training\")\n",
        "  print(neural_network.weight_matrix)\n",
        "\n",
        "  train_inputs = array([[0,0,1],[1,1,1],[1,0,1],[0,1,1]])\n",
        "  train_outputs = array([[0,1,1,0]]).T\n",
        "  neural_network.train(train_inputs, train_outputs, 1000)\n",
        "\n",
        "  print(\"New weights after the training\")\n",
        "  print(neural_network.weight_matrix)\n",
        "\n",
        "  print(\"Testing model on unseen data\")\n",
        "  print(neural_network.forward_propagation([1,0,0]))"
      ],
      "metadata": {
        "colab": {
          "base_uri": "https://localhost:8080/"
        },
        "id": "-8pUIY1OUyfr",
        "outputId": "c0b685aa-3c0b-4124-9bab-20968af6ac4c"
      },
      "execution_count": 11,
      "outputs": [
        {
          "output_type": "stream",
          "name": "stdout",
          "text": [
            "Random wrights at the start of the training\n",
            "[[4.17022005e-01]\n",
            " [7.20324493e-01]\n",
            " [1.14374817e-04]]\n",
            "New weights after the training\n",
            "[[-1678.28947899]\n",
            " [-1256.07433021]\n",
            " [-2516.12109725]]\n",
            "Testing model on unseen data\n",
            "[-1.]\n"
          ]
        }
      ]
    },
    {
      "cell_type": "code",
      "source": [
        "random.random((3,1))"
      ],
      "metadata": {
        "colab": {
          "base_uri": "https://localhost:8080/"
        },
        "id": "e20ySyfPVF-7",
        "outputId": "53af6807-bb66-40d3-bca3-61d9042efcaa"
      },
      "execution_count": 4,
      "outputs": [
        {
          "output_type": "execute_result",
          "data": {
            "text/plain": [
              "array([[0.69548139],\n",
              "       [0.79025413],\n",
              "       [0.17511946]])"
            ]
          },
          "metadata": {},
          "execution_count": 4
        }
      ]
    }
  ]
}